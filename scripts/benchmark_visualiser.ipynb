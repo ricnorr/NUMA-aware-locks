{
 "cells": [
  {
   "cell_type": "code",
   "execution_count": 1,
   "id": "a31ba947-c766-47a6-a450-1659903d833e",
   "metadata": {},
   "outputs": [],
   "source": [
    "import pandas as pd\n",
    "import matplotlib.pyplot as plt\n",
    "import os\n",
    "import glob\n",
    "import re"
   ]
  },
  {
   "cell_type": "code",
   "execution_count": null,
   "id": "7393fd42-f23f-4256-b577-912b90d1502d",
   "metadata": {},
   "outputs": [],
   "source": [
    "df = pd.read_csv('../results/benchmark_results.csv', index_col=None, header=0)\n",
    "bench_names = sorted(set(df['name']))\n",
    "locks = sorted(set(df['lock']))\n",
    "for bench in bench_names:\n",
    "    for mode in ['throughput', 'latency']:\n",
    "        ax = plt.axes(title = bench + '\\n mode=' + mode)\n",
    "        threads = sorted(set(df['threads']))\n",
    "        ax.set_xticks(threads)\n",
    "        plt.gcf().set_size_inches(7, 10)\n",
    "        for lock in locks:\n",
    "            cur_df = df[(df['name'] == bench) & (df['lock'] == lock)]\n",
    "            cur_df.sort_values(by=['threads']).plot(ax=ax, x='threads', y=mode, label=lock)    \n",
    "        \n",
    "        plt.savefig('pictures/' + bench + '_' + mode + '.png', bbox_inches=\"tight\")       \n",
    "        plt.show()          "
   ]
  }
 ],
 "metadata": {
  "kernelspec": {
   "display_name": "NUMA-aware-locks-venv",
   "language": "python",
   "name": "numa-aware-locks-venv"
  },
  "language_info": {
   "codemirror_mode": {
    "name": "ipython",
    "version": 3
   },
   "file_extension": ".py",
   "mimetype": "text/x-python",
   "name": "python",
   "nbconvert_exporter": "python",
   "pygments_lexer": "ipython3",
   "version": "3.8.10"
  }
 },
 "nbformat": 4,
 "nbformat_minor": 5
}
